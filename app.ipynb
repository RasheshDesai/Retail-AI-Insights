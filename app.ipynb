{
 "cells": [
  {
   "cell_type": "code",
   "execution_count": 2,
   "id": "17caa7c6",
   "metadata": {},
   "outputs": [],
   "source": [
    "import pandas as pd\n",
    "import numpy as np\n",
    "import dash\n",
    "from dash import html, dcc, Input, Output\n",
    "import dash_bootstrap_components as dbc\n",
    "import plotly.express as px\n",
    "import matplotlib.pyplot as plt"
   ]
  },
  {
   "cell_type": "code",
   "execution_count": 3,
   "id": "1fb78501",
   "metadata": {},
   "outputs": [
    {
     "data": {
      "text/html": [
       "<div>\n",
       "<style scoped>\n",
       "    .dataframe tbody tr th:only-of-type {\n",
       "        vertical-align: middle;\n",
       "    }\n",
       "\n",
       "    .dataframe tbody tr th {\n",
       "        vertical-align: top;\n",
       "    }\n",
       "\n",
       "    .dataframe thead th {\n",
       "        text-align: right;\n",
       "    }\n",
       "</style>\n",
       "<table border=\"1\" class=\"dataframe\">\n",
       "  <thead>\n",
       "    <tr style=\"text-align: right;\">\n",
       "      <th></th>\n",
       "      <th>Unnamed: 0</th>\n",
       "      <th>Manufacturer</th>\n",
       "      <th>PeriodID</th>\n",
       "      <th>WeekEndDate</th>\n",
       "      <th>FiscalYear</th>\n",
       "      <th>FiscalQuarter</th>\n",
       "      <th>FiscalMonth</th>\n",
       "      <th>FiscalWeek</th>\n",
       "      <th>ProductID</th>\n",
       "      <th>ProductDescription</th>\n",
       "      <th>...</th>\n",
       "      <th>Latitude</th>\n",
       "      <th>Longitude</th>\n",
       "      <th>Address_y</th>\n",
       "      <th>SalesDollarsMean</th>\n",
       "      <th>SalesDollarsSD</th>\n",
       "      <th>SalesQtyMean</th>\n",
       "      <th>SalesQtySD</th>\n",
       "      <th>FSA</th>\n",
       "      <th>Category</th>\n",
       "      <th>UnitPrice</th>\n",
       "    </tr>\n",
       "  </thead>\n",
       "  <tbody>\n",
       "    <tr>\n",
       "      <th>0</th>\n",
       "      <td>0</td>\n",
       "      <td>General Mills</td>\n",
       "      <td>235</td>\n",
       "      <td>'2023-11-26 00:00:00'</td>\n",
       "      <td>FY24</td>\n",
       "      <td>FY24-Q2</td>\n",
       "      <td>202406</td>\n",
       "      <td>202426</td>\n",
       "      <td>6013</td>\n",
       "      <td>PB RTB COOKIE DOUGH REESE 24CT CDA 454GR</td>\n",
       "      <td>...</td>\n",
       "      <td>54.140681</td>\n",
       "      <td>-115.671676</td>\n",
       "      <td>5005 DAHL DR</td>\n",
       "      <td>22.727464</td>\n",
       "      <td>17.364742</td>\n",
       "      <td>5.090318</td>\n",
       "      <td>4.107883</td>\n",
       "      <td>T7S</td>\n",
       "      <td>Cookie&amp;BrownieDough</td>\n",
       "      <td>2.490</td>\n",
       "    </tr>\n",
       "    <tr>\n",
       "      <th>1</th>\n",
       "      <td>1</td>\n",
       "      <td>General Mills</td>\n",
       "      <td>235</td>\n",
       "      <td>'2023-11-26 00:00:00'</td>\n",
       "      <td>FY24</td>\n",
       "      <td>FY24-Q2</td>\n",
       "      <td>202406</td>\n",
       "      <td>202426</td>\n",
       "      <td>6013</td>\n",
       "      <td>PB RTB COOKIE DOUGH REESE 24CT CDA 454GR</td>\n",
       "      <td>...</td>\n",
       "      <td>44.218869</td>\n",
       "      <td>-79.448238</td>\n",
       "      <td>23550 WOODBINE AVE</td>\n",
       "      <td>22.727464</td>\n",
       "      <td>17.364742</td>\n",
       "      <td>5.090318</td>\n",
       "      <td>4.107883</td>\n",
       "      <td>L4P</td>\n",
       "      <td>Cookie&amp;BrownieDough</td>\n",
       "      <td>4.000</td>\n",
       "    </tr>\n",
       "    <tr>\n",
       "      <th>2</th>\n",
       "      <td>2</td>\n",
       "      <td>General Mills</td>\n",
       "      <td>235</td>\n",
       "      <td>'2023-11-26 00:00:00'</td>\n",
       "      <td>FY24</td>\n",
       "      <td>FY24-Q2</td>\n",
       "      <td>202406</td>\n",
       "      <td>202426</td>\n",
       "      <td>6013</td>\n",
       "      <td>PB RTB COOKIE DOUGH REESE 24CT CDA 454GR</td>\n",
       "      <td>...</td>\n",
       "      <td>49.268053</td>\n",
       "      <td>-124.781845</td>\n",
       "      <td>3355 JOHNSTON RD</td>\n",
       "      <td>22.727464</td>\n",
       "      <td>17.364742</td>\n",
       "      <td>5.090318</td>\n",
       "      <td>4.107883</td>\n",
       "      <td>V9Y</td>\n",
       "      <td>Cookie&amp;BrownieDough</td>\n",
       "      <td>4.000</td>\n",
       "    </tr>\n",
       "    <tr>\n",
       "      <th>3</th>\n",
       "      <td>3</td>\n",
       "      <td>General Mills</td>\n",
       "      <td>231</td>\n",
       "      <td>'2023-10-29 00:00:00'</td>\n",
       "      <td>FY24</td>\n",
       "      <td>FY24-Q2</td>\n",
       "      <td>202405</td>\n",
       "      <td>202422</td>\n",
       "      <td>6013</td>\n",
       "      <td>PB RTB COOKIE DOUGH REESE 24CT CDA 454GR</td>\n",
       "      <td>...</td>\n",
       "      <td>49.267938</td>\n",
       "      <td>-124.784276</td>\n",
       "      <td>3455 JOHNSTON RD.</td>\n",
       "      <td>22.727464</td>\n",
       "      <td>17.364742</td>\n",
       "      <td>5.090318</td>\n",
       "      <td>4.107883</td>\n",
       "      <td>V9Y</td>\n",
       "      <td>Cookie&amp;BrownieDough</td>\n",
       "      <td>7.490</td>\n",
       "    </tr>\n",
       "    <tr>\n",
       "      <th>4</th>\n",
       "      <td>4</td>\n",
       "      <td>General Mills</td>\n",
       "      <td>235</td>\n",
       "      <td>'2023-11-26 00:00:00'</td>\n",
       "      <td>FY24</td>\n",
       "      <td>FY24-Q2</td>\n",
       "      <td>202406</td>\n",
       "      <td>202426</td>\n",
       "      <td>6013</td>\n",
       "      <td>PB RTB COOKIE DOUGH REESE 24CT CDA 454GR</td>\n",
       "      <td>...</td>\n",
       "      <td>49.267938</td>\n",
       "      <td>-124.784276</td>\n",
       "      <td>3455 JOHNSTON RD.</td>\n",
       "      <td>22.727464</td>\n",
       "      <td>17.364742</td>\n",
       "      <td>5.090318</td>\n",
       "      <td>4.107883</td>\n",
       "      <td>V9Y</td>\n",
       "      <td>Cookie&amp;BrownieDough</td>\n",
       "      <td>7.495</td>\n",
       "    </tr>\n",
       "  </tbody>\n",
       "</table>\n",
       "<p>5 rows × 47 columns</p>\n",
       "</div>"
      ],
      "text/plain": [
       "   Unnamed: 0   Manufacturer  PeriodID            WeekEndDate FiscalYear  \\\n",
       "0           0  General Mills       235  '2023-11-26 00:00:00'       FY24   \n",
       "1           1  General Mills       235  '2023-11-26 00:00:00'       FY24   \n",
       "2           2  General Mills       235  '2023-11-26 00:00:00'       FY24   \n",
       "3           3  General Mills       231  '2023-10-29 00:00:00'       FY24   \n",
       "4           4  General Mills       235  '2023-11-26 00:00:00'       FY24   \n",
       "\n",
       "  FiscalQuarter  FiscalMonth  FiscalWeek  ProductID  \\\n",
       "0       FY24-Q2       202406      202426       6013   \n",
       "1       FY24-Q2       202406      202426       6013   \n",
       "2       FY24-Q2       202406      202426       6013   \n",
       "3       FY24-Q2       202405      202422       6013   \n",
       "4       FY24-Q2       202406      202426       6013   \n",
       "\n",
       "                         ProductDescription  ...   Latitude   Longitude  \\\n",
       "0  PB RTB COOKIE DOUGH REESE 24CT CDA 454GR  ...  54.140681 -115.671676   \n",
       "1  PB RTB COOKIE DOUGH REESE 24CT CDA 454GR  ...  44.218869  -79.448238   \n",
       "2  PB RTB COOKIE DOUGH REESE 24CT CDA 454GR  ...  49.268053 -124.781845   \n",
       "3  PB RTB COOKIE DOUGH REESE 24CT CDA 454GR  ...  49.267938 -124.784276   \n",
       "4  PB RTB COOKIE DOUGH REESE 24CT CDA 454GR  ...  49.267938 -124.784276   \n",
       "\n",
       "            Address_y SalesDollarsMean  SalesDollarsSD SalesQtyMean  \\\n",
       "0        5005 DAHL DR        22.727464       17.364742     5.090318   \n",
       "1  23550 WOODBINE AVE        22.727464       17.364742     5.090318   \n",
       "2    3355 JOHNSTON RD        22.727464       17.364742     5.090318   \n",
       "3   3455 JOHNSTON RD.        22.727464       17.364742     5.090318   \n",
       "4   3455 JOHNSTON RD.        22.727464       17.364742     5.090318   \n",
       "\n",
       "  SalesQtySD  FSA             Category  UnitPrice  \n",
       "0   4.107883  T7S  Cookie&BrownieDough      2.490  \n",
       "1   4.107883  L4P  Cookie&BrownieDough      4.000  \n",
       "2   4.107883  V9Y  Cookie&BrownieDough      4.000  \n",
       "3   4.107883  V9Y  Cookie&BrownieDough      7.490  \n",
       "4   4.107883  V9Y  Cookie&BrownieDough      7.495  \n",
       "\n",
       "[5 rows x 47 columns]"
      ]
     },
     "execution_count": 3,
     "metadata": {},
     "output_type": "execute_result"
    }
   ],
   "source": [
    "df = pd.read_csv(\"AddedUnitPrice.csv\")\n",
    "df.head()"
   ]
  },
  {
   "cell_type": "code",
   "execution_count": 4,
   "id": "379fdec8",
   "metadata": {},
   "outputs": [
    {
     "data": {
      "text/plain": [
       "Index(['Unnamed: 0', 'Manufacturer', 'PeriodID', 'WeekEndDate', 'FiscalYear',\n",
       "       'FiscalQuarter', 'FiscalMonth', 'FiscalWeek', 'ProductID',\n",
       "       'ProductDescription', 'UPC', 'AccountID', 'Banner', 'StoreName_x',\n",
       "       'StoreNumber', 'Address_x', 'City', 'Province', 'PostalCode',\n",
       "       'SalesQty', 'SalesDollars', 'CityCoding', 'ClusterMean', 'ClusterSTD',\n",
       "       'CityMean', 'CitySTD', 'Diff_From_City_Mean', 'RowID', 'PostalID',\n",
       "       'Postal_Lat', 'Postal_Long', 'Strength', 'StrengthCoding', 'ClusterID',\n",
       "       'MasterID', 'StoreName_y', 'Retailer', 'Latitude', 'Longitude',\n",
       "       'Address_y', 'SalesDollarsMean', 'SalesDollarsSD', 'SalesQtyMean',\n",
       "       'SalesQtySD', 'FSA', 'Category', 'UnitPrice'],\n",
       "      dtype='object')"
      ]
     },
     "execution_count": 4,
     "metadata": {},
     "output_type": "execute_result"
    }
   ],
   "source": [
    "df.columns"
   ]
  },
  {
   "cell_type": "code",
   "execution_count": 5,
   "id": "e585bf57",
   "metadata": {},
   "outputs": [],
   "source": [
    "# List of columns to drop\n",
    "columns_to_drop = [\n",
    "    'Unnamed: 0','CityCoding', 'ClusterMean', 'ClusterSTD',\n",
    "    'CityMean', 'CitySTD', 'Diff_From_City_Mean', \n",
    "    'Strength', 'StrengthCoding', \n",
    "    'SalesDollarsSD', 'SalesQtyMean',\n",
    "    'SalesQtySD'\n",
    "]\n",
    "\n",
    "df = df.drop(columns=columns_to_drop, errors='ignore')\n"
   ]
  },
  {
   "cell_type": "code",
   "execution_count": 6,
   "id": "7078762b",
   "metadata": {},
   "outputs": [
    {
     "data": {
      "text/plain": [
       "Index(['Manufacturer', 'PeriodID', 'WeekEndDate', 'FiscalYear',\n",
       "       'FiscalQuarter', 'FiscalMonth', 'FiscalWeek', 'ProductID',\n",
       "       'ProductDescription', 'UPC', 'AccountID', 'Banner', 'StoreName_x',\n",
       "       'StoreNumber', 'Address_x', 'City', 'Province', 'PostalCode',\n",
       "       'SalesQty', 'SalesDollars', 'RowID', 'PostalID', 'Postal_Lat',\n",
       "       'Postal_Long', 'ClusterID', 'MasterID', 'StoreName_y', 'Retailer',\n",
       "       'Latitude', 'Longitude', 'Address_y', 'SalesDollarsMean', 'FSA',\n",
       "       'Category', 'UnitPrice'],\n",
       "      dtype='object')"
      ]
     },
     "execution_count": 6,
     "metadata": {},
     "output_type": "execute_result"
    }
   ],
   "source": [
    "df.columns"
   ]
  },
  {
   "cell_type": "code",
   "execution_count": 7,
   "id": "9a1efdfb",
   "metadata": {},
   "outputs": [],
   "source": [
    "df['FiscalMonth']  = pd.to_datetime(df['FiscalMonth'].astype(str) ,format='%Y%m').dt.strftime('%B %Y')"
   ]
  },
  {
   "cell_type": "code",
   "execution_count": 8,
   "id": "93a87eec",
   "metadata": {},
   "outputs": [
    {
     "data": {
      "text/plain": [
       "array(['June 2024', 'May 2024', 'July 2024'], dtype=object)"
      ]
     },
     "execution_count": 8,
     "metadata": {},
     "output_type": "execute_result"
    }
   ],
   "source": [
    "df['FiscalMonth'].unique()"
   ]
  },
  {
   "cell_type": "code",
   "execution_count": 9,
   "id": "2e990b90",
   "metadata": {},
   "outputs": [
    {
     "data": {
      "text/plain": [
       "array(['whitecourt', 'keswick', 'port alberni', 'matane', 'selkirk',\n",
       "       'ottawa', 'laval', 'strathmore', 'wainwright', 'peace river',\n",
       "       'scarborough', 'waterdown', 'stratford', 'cochrane', 'tsawwassen',\n",
       "       'saint-leonard', 'pointe-claire', 'winnipeg', 'burnaby',\n",
       "       'kingston', 'st catharines', 'st. catharines', \"'st. john''s'\",\n",
       "       'brampton', 'bradford', 'sydney', 'windsor', 'sainte-foy',\n",
       "       'oshawa', 'vaughan', 'toronto', 'lorraine', 'la baie', 'napanee',\n",
       "       'owen sound', 'chatham', 'ajax', 'vancouver', 'kamloops', 'embrun',\n",
       "       'uxbridge', 'nepean', 'saint-agate-des-monts', 'collingwood',\n",
       "       'trail', 'vegreville', 'montreal', 'antigonish', 'brandon',\n",
       "       'magog', 'terrebonne', 'calgary', 'sherwood park', 'chateauguay',\n",
       "       'edmonton', 'surrey', 'delta', 'waterloo', 'bedford', 'westbank',\n",
       "       'london', 'new market', 'grande prairie', 'woodbridge', 'kanata',\n",
       "       'newmarket', 'barrie', 'abbotsford', 'port hope',\n",
       "       'stemarthe sur le lac', 'north york', 'pierrefonds', 'victoria',\n",
       "       'yarmouth', 'chelmsford', 'halifax', 'riviere-du-loup', 'midland',\n",
       "       'almonte', 'port perry', 'kelowna', 'lethbridge', 'dartmouth',\n",
       "       'stoney creek', 'mississauga', 'hamilton', 'etobicoke', 'petrolia',\n",
       "       'lasalle', 'oakville', 'roberval', 'rimouski', 'joliette',\n",
       "       'trois-rivieres', 'edson', 'goderich', 'burlington', 'yorkton',\n",
       "       'fort st. john', 'atholville', 'saint-georges', 'kemptville',\n",
       "       'leamington', 'cowansville', 'pointe-aux-trembles', 'pembroke',\n",
       "       'campbell river', 'tillsonburg', 'alexandria', 'st-sauveur',\n",
       "       'cambridge', 'cornwall', 'drummondville', 'fredericton',\n",
       "       'newcastle', 'charlottetown', 'ste julie', 'brockville', 'guelph',\n",
       "       'summerside', 'saint john', 'winkler', 'trenton', 'vernon',\n",
       "       'chilliwack', 'montague', 'ville st laurent', 'st-jean',\n",
       "       'gatineau', 'kingsville', 'stephenville', 'levis', 'rothesay',\n",
       "       'leduc', 'ingersoll', 'pickering', 'meaford', 'st-lambert',\n",
       "       'casselman', 'belleville', 'grimsby', 'oromocto', 'quebec',\n",
       "       'beamsville', 'st-jerome', 'boucherville', 'richmond hill',\n",
       "       'pitt meadows', 'welland', 'upper tantallon', 'kincardine',\n",
       "       'regina', 'chicoutimi nord', 'repentigny', 'prince albert',\n",
       "       'elmsdale', 'st-hubert', 'whitby', 'fort mcmurray', 'beaverton',\n",
       "       'paradise', 'manotick', 'kitchener', 'mount pearl', 'sherbrooke',\n",
       "       'saskatoon', 'fergus', 'exeter', 'peterborough',\n",
       "       'vaudreuil-dorion', 'grand bend', 'moncton', 'st-georges',\n",
       "       'brossard', 'le gardeur', 'granby', 'amherst', 'sylvan lake',\n",
       "       'aurora', 'salisbury', 'bracebridge', 'edmundston', 'stittsville',\n",
       "       'st-constant', 'langley', 'belle river', 'st albert', 'red deer',\n",
       "       'coquitlam', 'sudbury', 'milton', 'westlock', 'hull', 'dorval',\n",
       "       'chestermere', 'wasaga beach', 'amos', 'haliburton', 'bridgewater',\n",
       "       'miramichi', 'lunenburg', 'north bay', 'thetford mines',\n",
       "       'st-hyacinthe', 'campbellford', 'innisfil', 'shelburne',\n",
       "       'salmon arm', 'oliver', 'bathurst', 'lennoxville', 'sarnia',\n",
       "       'lindsay', 'louiseville', 'st-augustin', 'lachute', 'st-pascal',\n",
       "       'richmond', 'caledonia', 'shawinigan', 'val-des-sources',\n",
       "       'trois rivieres', 'sorel-tracy', 'duncan', 'hanover',\n",
       "       'hagersville', 'vanier', 'spruce grove', 'wetaskiwin', 'alliston',\n",
       "       'delhi', 'riverview', 'rockland', 'truro', 'fort erie',\n",
       "       'sydney river', 'pincourt', 'n vancouver', 'hanmer', 'new glasgow',\n",
       "       'st jerome', 'chambly', 'port dover', 'moose jaw', 'maple ridge',\n",
       "       'airdrie', 'petawawa', 'greenfield park', 'verdun', 'kirkland',\n",
       "       'brantford', 'stouffville', 'devon', 'gloucester', 'perth',\n",
       "       'clarenville', 'longueuil', 'penticton', 'aylmer', 'olds',\n",
       "       'glencoe', 'morinville', 'sturgeon falls', 'parry sound',\n",
       "       'shediac', 'digby', 'woodstock', 'westmount', 'st-eustache',\n",
       "       'mont-royal', 'baie-comeau', 'arnprior', 'neepawa', 'carstairs',\n",
       "       'melville', 'lorette', 'oakbank', 'estevan', 'warman',\n",
       "       'martensville', 'minnedosa', 'altona', 'medicine hat', 'watrous',\n",
       "       'camrose', 'st-jean-sur-richelieu', 'carbonear', 'nanaimo',\n",
       "       'montreal-nord', 'amherstburg', 'simcoe', 'prescott', 'sackville',\n",
       "       'okotoks', 'porters lake', 'gananoque', 'corunna',\n",
       "       'mont tremblant', 'lower sackville', 'glace bay',\n",
       "       'garibaldi highlands', 'rouyn-noranda', 'alma', 'sussex',\n",
       "       'orillia', 'bowmanville', 'marieville', 'laplaine',\n",
       "       'carleton place', 'alfred', 'la prairie', 'ridgeway',\n",
       "       'new hamburg', 'sutton west', 'st marys', 'ste marie', 'lively',\n",
       "       'chicoutimi', \"'st john''s'\", 'cobourg', 'fort saskatchewan',\n",
       "       'ancaster', 'mission', 'barrington passage', 'virgil',\n",
       "       'st basile le gran', 'east york', 'port hawkesbury',\n",
       "       'ste agathe des monts', 'orleans', 'blainville', 'jonquiere',\n",
       "       'renfrew', 'picton', 'mont-st-hilaire', 'fleurimont',\n",
       "       'sorel - tracy', 'st-marc-des-carrieres', 'boisbriand', 'shannon',\n",
       "       'candiac', 'port colborne', 'north vancouver',\n",
       "       'sainte-rose (laval)', 'montra(c)al', 'thorold', 'markham',\n",
       "       'niagara falls', 'neufcha,tel', 'georgetown', 'downview',\n",
       "       'saint-charles-borromee', 'victoriaville', 'saint-lin-laurentides',\n",
       "       'saint-hubert', 'elmira', 'mont-tremblant', 'prevost',\n",
       "       'orangeville', 'blenheim', 'asbestos', 'st-gabriel-de-brandon',\n",
       "       'st-augustin-de-desmaures', 'listowel', 'greenfield-park',\n",
       "       'montreal (anjou)', 'saint-remi', 'sorel -tracy', 'ste-therese',\n",
       "       'fonthill', 'deschaillons-sur-st-laurent', 'ste-julie',\n",
       "       'st-catharines', 'saint-tite', 'montra%0al-nord', 'napierville',\n",
       "       \"'notre-dame-de-l''azle-perrot'\", 'st-laurent', 'dundas',\n",
       "       'tecumseh', 'thornhill', 'beaconsfield', 'farnham', 'becancour',\n",
       "       'trois-rivia^res', 'st-thomas', 'st-la%0onard',\n",
       "       \"'l''ancienne-lorette'\", 'bolton', 'st-jean-de-matha',\n",
       "       'st-zotique', 'vaudreuil', 'la pocatiere', \"'l''assomption'\",\n",
       "       'nicolet', 'ste-catherine-de-la-j-cartier', 'st. thomas',\n",
       "       'dunnville', 'dollard-des-ormeaux', 'huntsville', 'cha,teauguay',\n",
       "       'valleyfield', 'berthierville', 'brighton', 'fabreville',\n",
       "       'spryfield', 'stoneham', 'nelson', 'east st. paul',\n",
       "       'fenelon falls', 'greenwood', 'north battleford', 'wiarton',\n",
       "       'delson', 'fall river', 'st-lambert-de-lauzon', 'charlesbourg',\n",
       "       'st-lin-laurentides', 'ste-adele',\n",
       "       'ste-catherine de la jacques-cartier', 'la sarre', 'beeton',\n",
       "       'st-jean port-joli', 'sept-iles', \"'val d''or'\", 'morin heights',\n",
       "       'g7h4b8', 'bramalea', 'malartic', 'thunder bay', 'boischatel',\n",
       "       'markdale', 'dundalk', 'ste-rose', 'timberlea', 'st-apollinaire',\n",
       "       'gatineau (quebec)', 'ville lasalle', 'canton de granby',\n",
       "       'varenne', 'cold lake', 'cranbrook', 'saint-jerome', 'callandar',\n",
       "       'lavaltrie', 'st. albert', 'canmore', 'gimli', 'beloeil',\n",
       "       'waterford', 'lebourgneuf', 'st-leonard', 'baie st-paul',\n",
       "       'viile st-laurent', 'lachine', 'pictou', 'grand falls',\n",
       "       'ridgetown', 'grande  prairie', 'brussels', 'grenville', 'mirabel',\n",
       "       'st-felix-de-valois', 'st-henri de levis', 'coboconk',\n",
       "       'dorchester', 'lloydminster', 'beauharnois', 'orsainville',\n",
       "       'pointe du lac trois-rivieres', 'carignan', 'disraeli',\n",
       "       'clarington', 'st-amable', 'smithville', 'ormstown', 'st-remi',\n",
       "       'stony plain', 'arthur', 'thompson', 'dieppe', 'smithers', 'ayr',\n",
       "       'ste-marie-de-beauce', 'manuels', 'st-bruno', 'cote st-luc',\n",
       "       'marystown', 'drumheller', 'saint eustache', 'timmins',\n",
       "       'smiths falls', \"'val-d''or'\", 'courtenay', 'prince george',\n",
       "       'merritt', 'saint-hyacinthe', 'grand falls-windsor', 'hinton',\n",
       "       'squamish', 'stettler', 'labrador city', 'maple', 'none',\n",
       "       'prince rupert', 'downsview', 'north sydney',\n",
       "       'ste-marthe-sur-le-lac', 'strathroy', 'mascouche', 'saint jerome',\n",
       "       'brooks', 'saint-jean-sur-richelieu', 'rosemere',\n",
       "       'sault ste. marie', 'corner brook', 'montreal nord',\n",
       "       'saint-constant', 'pincher creek', 'port coquitlam', 'hawkesbury',\n",
       "       'quesnel', 'williams lake', 'swift current', 'new westminster',\n",
       "       'kindersley', 'salaberry-de-valleyfield', 'sept iles',\n",
       "       'new liskeard', 'kenora', 'port elgin', 'wallaceburg', 'montmagny',\n",
       "       'bancroft', 'st thomas', 'gravenhurst', 'st-jean-richelieu',\n",
       "       'acton', 'nobleton', 'ancienne-lorette', 'mont saint hilaire',\n",
       "       'ponoka', 'severn', 'tilbury', 'mount forest', 'new minas',\n",
       "       'plessiville', 'lacombe', 'innisfail', ' gatineau', 'beaumont',\n",
       "       'angus', 'liverpool', 'gander', 'athabasca', 'rawdon', 'essex',\n",
       "       'saint-bruno-de-montarville', 'temiscouata-sur-le-lac',\n",
       "       'steinbach', 'arborg', 'carman', 'carlyle', 'meadow lake', 'boyle',\n",
       "       'killam', 'canora', 'nipawin', 'gravelbourg', 'valleyview',\n",
       "       'rimbey', 'humboldt', 'thorhild', 'kapuskasing', 'paris',\n",
       "       'st-jaceques de montc', 'donnacona', 'alberton', 'lachenaie',\n",
       "       'wolfville', 'beresford', 'dolbeau-mistassini', 'st-andre-avellin',\n",
       "       'ste-julienne', 'val-caron', 'val-david', 'trois-pistoles',\n",
       "       'rigaud', 'degelis', 'st-georges de beauce', 'laurier-station',\n",
       "       'ste-anne-de-la-perade', 'lac-megantic', 'gaspe',\n",
       "       'st-damien-de-brandon', 'trois-rivieres ouest', 'charlemagne',\n",
       "       'ste-catherine', 'st-chrysostome', 'ste-anne-des-plaines',\n",
       "       'carleton', 'st-raymond', 'saint-cesaire', 'stratroy',\n",
       "       'lac-etchemin', 'ste-agathe-des-monts', 'qua%0bec',\n",
       "       'papineauville', 'vercheres', \"'l''epiphanie'\", 'mont-laurier',\n",
       "       'chandler', 'st-felicien', 'thurso', 'ste-anne-de-beaupre',\n",
       "       'cheneville', 'vimont-laval', 'north york - toronto',\n",
       "       'st-alphonse-rodriguez', 'cookstown', 'sainte-marie', 'anjou',\n",
       "       'southampton', 'thornbury', 'terrace', 'blackfalds',\n",
       "       'plessisville', 'harbour breton', 'millbrook', 'osgoode',\n",
       "       'elmvale', 'mont-saint-hilaire', 'laval-des-rapides',\n",
       "       'st-hippolyte', 'port moody', 'tilsonburg', 'penhold',\n",
       "       'st-georges est', 'ste-dorothee', 'coaticook', 'ste-martine',\n",
       "       'princeville', 'three hills', 'mactier', 'st-nicolas', 'st-jovite',\n",
       "       'greely', 'coldbrook', 'vineland', 'ile perrot', 'brights grove',\n",
       "       'schomberg', 'longueuil (quebec)', \"'l''ile bizard'\", 'norwood',\n",
       "       'parkhill', 'laval ouest', 'iroquois', 'durham', 'northbrook',\n",
       "       'st-luc', 'st. clair beach', 'maria', 'cayuga', 'lakefield',\n",
       "       'riviere des  prairies', 'lacolle', 'warwick', 'acton vale',\n",
       "       'saulnierville', 'saint-eustache', 'binbrook', 'chelsea',\n",
       "       'tottenham', 'hudson', 'redwater', 'winchester', 'forest',\n",
       "       'caledon', 'west vancouver', 'castlegar', 'st-joseph-du-lac',\n",
       "       'la tuque', 'port carling', 'st-lazare', 'deux-montagnes',\n",
       "       'placentia', 'chambly (quebec)', 'kirkland lake', 'pont-rouge',\n",
       "       'langford', 'east angus', 'bouctouche', 'bloomfield station',\n",
       "       'vimont laval', 'whitbourne', 'parrsboro', 'mindemoya',\n",
       "       'grand-mere', 'normandin', 'lac brome', 'russell', 'cookshire',\n",
       "       'cap de la madeleine', 'ville la baie', 'komoka', 'riviere-rouge',\n",
       "       'wellington', 'conception bay south', 'high river', 'espanola',\n",
       "       'saanichton', 'dawson creek', 'stellarton', 'parksville',\n",
       "       'price rupert', 'seaforth', 'middleton', 'comox', 'springhill',\n",
       "       'mount albert', 'buckhorn', 'ft. sask', 'dauphin', 'burgeo',\n",
       "       'portage la prairie', 'bay bulls', 'mitchell', 'lac megantic',\n",
       "       'sechelt', 'drayton valley', 'mayerthorpe', 'morden', 'kelvington',\n",
       "       'virden', 'coronach', 'porcupine plain', 'melfort', 'assiniboia',\n",
       "       'ste-croix', 'walkerton', 'saint-donat', 'bromont', 'pierreville',\n",
       "       'sainte-sophie', 'thedford mines', 'montra%0al', 'stayner',\n",
       "       'grand bay', 'st-cesaire', 'valcourt', 'laprairie',\n",
       "       'coteau de lac', 't3p0m9', 'mirabelst-janvier', 'tobermory',\n",
       "       'iberville', 'berwick', 'huntingdon', 'palmerston', 'bellefeuille',\n",
       "       'coldwater', 'clermont', 'brooklin',\n",
       "       'metabetchouan-lac-a-la-croix', 'lucan', 'aldergrove', 'mattawa',\n",
       "       'ste-justine', 'mistassini', 'saguenay', 'slave lake', 'hannon',\n",
       "       'saint-laurent', 'longueil', 'chatham-kent', 'la salle',\n",
       "       'whitehorse', 'dryden', 'fort frances', 'weyburn', 'chester',\n",
       "       'taber', 'saint-romuald', 'moosomin', 'annapolis royal', 'oka',\n",
       "       'smith falls', 'varennes', 'hillsburgh', 'contrecoeur',\n",
       "       'amherstview', 'garson', 'mercier', 'lafontaine', 'malton',\n",
       "       'bay roberts', 'chertsey', 'kamsack', 'maple creek', 'redvers',\n",
       "       'st antoine', 'kensington', 'hubbards', 'gambo', 'gerber',\n",
       "       'mill bay', 'havelock', 'frankford', 'west lorne',\n",
       "       'lower west pubnico', 'mont-joli', 'ingleside', 'st-anselme',\n",
       "       'st-romuald', 'milford', 'dutton', 'st-jean sur le richelieu',\n",
       "       'creemore', 'dresden', 'clinton', 'brechin', 'rexton',\n",
       "       'sherbrooke (quebec)', 'head of jeddore', 'cantley', 'st. marys',\n",
       "       'ste-anne de beaupre', 'eganville', 'wingham', 'bayfield',\n",
       "       'st-jean-chrysostome', 'bobcaygeon', 'outlook', 'churchbridge',\n",
       "       'torbay', 'stewiacke', 'shawinigan-sud', 'r2m3z4',\n",
       "       'val-belair quebec', 'bois-des-filion', 'saint-sauveur',\n",
       "       'st-charles-borromee', 'beauceville', 'botwood', 'wilberforce',\n",
       "       'ste-brigitte de laval', 'richelieu', 'minden', 'beausejour',\n",
       "       'fort quappelle', 'tofield', 'noelville', 'sheet harbour',\n",
       "       'st-basile-le-grand', 'bonavista', 'port-cartier', 'senneterre',\n",
       "       'badgers quay', 'madoc', 'penetanguishene', 'pugwash', 'morell',\n",
       "       'lewisporte', 'hampton', 'wyoming', 'sundridge', 'weymouth',\n",
       "       'oxford', 'hantsport', 'rosetown', 'erin', 'mahone bay', 'sidney',\n",
       "       'st anthony', 'tatamagouche', 'flin flon', 'stonewall', 'wadena',\n",
       "       'tisdale', 'foxboro', 'victoria harbour', 'st-joseph de beauce',\n",
       "       'ste-foy', 'port aux choix', 'lafleche', 'courtice', 'minto',\n",
       "       'capreol', 'tignish', 'kentville', \"'arnold''s cove'\",\n",
       "       \"'o''leary'\", 'elliot lake', 'mcmasterville', 'rockwood',\n",
       "       \"'joe batt''s arm'\", 'omemee', 'westville', 'port stanley',\n",
       "       'oxbow', 'verona', 'new waterford', 'burford', 'wilkie',\n",
       "       'vankleek hill', 'stirling', 'harriston', 'norwich', 'sydenham',\n",
       "       'quispamsis', 'little britain', 'iroquois falls', 'sutton',\n",
       "       'bothwell'], dtype=object)"
      ]
     },
     "execution_count": 9,
     "metadata": {},
     "output_type": "execute_result"
    }
   ],
   "source": [
    "df['City'].unique()"
   ]
  },
  {
   "cell_type": "code",
   "execution_count": 10,
   "id": "b3ba171a",
   "metadata": {},
   "outputs": [],
   "source": [
    "filter_df = df.groupby"
   ]
  },
  {
   "cell_type": "code",
   "execution_count": 11,
   "id": "18d28733",
   "metadata": {},
   "outputs": [
    {
     "name": "stdout",
     "output_type": "stream",
     "text": [
      "      City Category FiscalMonth  SalesDollars\n",
      "0  toronto   Yogurt   June 2024      85787.49\n"
     ]
    }
   ],
   "source": [
    "def CalculateProductCitySalesDollars(city,category,month):\n",
    "    filter_df = df[(df['City']==city) & (df['Category'] == category) & (df['FiscalMonth']==month)]\n",
    "    product_df = filter_df.groupby(['City','Category','FiscalMonth'])['SalesDollars'].sum().reset_index()\n",
    "\n",
    "    print(product_df)\n",
    "CalculateProductCitySalesDollars(city='toronto',category='Yogurt', month='June 2024')\n",
    "\n"
   ]
  },
  {
   "cell_type": "code",
   "execution_count": null,
   "id": "f2583ac4",
   "metadata": {},
   "outputs": [
    {
     "name": "stdout",
     "output_type": "stream",
     "text": [
      "       City  SalesDollars\n",
      "0  montreal     420520.49\n"
     ]
    }
   ],
   "source": [
    "def TotalProductCitySales(city):\n",
    "    filter_df = df[df['City'] == city]\n",
    "\n",
    "    total_city_sales_df = filter_df.groupby(['City'])['SalesDollars'].sum().reset_index()\n",
    "    return total_city_sales_df\n"
   ]
  },
  {
   "cell_type": "code",
   "execution_count": 40,
   "id": "7a18af43",
   "metadata": {},
   "outputs": [
    {
     "data": {
      "text/html": [
       "<div>\n",
       "<style scoped>\n",
       "    .dataframe tbody tr th:only-of-type {\n",
       "        vertical-align: middle;\n",
       "    }\n",
       "\n",
       "    .dataframe tbody tr th {\n",
       "        vertical-align: top;\n",
       "    }\n",
       "\n",
       "    .dataframe thead th {\n",
       "        text-align: right;\n",
       "    }\n",
       "</style>\n",
       "<table border=\"1\" class=\"dataframe\">\n",
       "  <thead>\n",
       "    <tr style=\"text-align: right;\">\n",
       "      <th></th>\n",
       "      <th>Category</th>\n",
       "      <th>SalesDollars</th>\n",
       "    </tr>\n",
       "  </thead>\n",
       "  <tbody>\n",
       "    <tr>\n",
       "      <th>0</th>\n",
       "      <td>Yogurt</td>\n",
       "      <td>46980.05</td>\n",
       "    </tr>\n",
       "  </tbody>\n",
       "</table>\n",
       "</div>"
      ],
      "text/plain": [
       "  Category  SalesDollars\n",
       "0   Yogurt      46980.05"
      ]
     },
     "execution_count": 40,
     "metadata": {},
     "output_type": "execute_result"
    }
   ],
   "source": [
    "def TotalCategoryCitySales(city,category):\n",
    "    filter_df = df[(df['City'] == city) & (df['Category']==category)]\n",
    "\n",
    "    total_city_sales_df = filter_df.groupby(['Category'])['SalesDollars'].sum().reset_index()\n",
    "    return total_city_sales_df\n",
    "TotalCategoryCitySales(city='mississauga',category='Yogurt')"
   ]
  },
  {
   "cell_type": "code",
   "execution_count": 43,
   "id": "ccb80816",
   "metadata": {},
   "outputs": [
    {
     "data": {
      "text/plain": [
       "46980.049999999996"
      ]
     },
     "execution_count": 43,
     "metadata": {},
     "output_type": "execute_result"
    }
   ],
   "source": [
    "def TotalCategoryCitySales(city,category):\n",
    "    filter_df = df[(df['City'] == city) & (df['Category']==category)]\n",
    "\n",
    "    total_city_sales_df = filter_df['SalesDollars'].sum()\n",
    "    return total_city_sales_df\n",
    "TotalCategoryCitySales(city='mississauga',category='Yogurt')\n"
   ]
  },
  {
   "cell_type": "code",
   "execution_count": 12,
   "id": "9aaef82e",
   "metadata": {},
   "outputs": [
    {
     "name": "stdout",
     "output_type": "stream",
     "text": [
      "      City        Category FiscalMonth  SalesDollars\n",
      "0  calgary          Yogurt   June 2024      93452.18\n",
      "1  calgary  Cereal&Granola   June 2024      60067.79\n",
      "2  calgary           Pizza   June 2024      30762.96\n",
      "3  calgary     GranolaBars   June 2024      27490.34\n",
      "4  calgary   BakingProduct   June 2024      14575.16\n",
      "5  calgary     FruitSnacks   June 2024      14401.77\n",
      "6  calgary    YogurtDrinks   June 2024      14230.22\n",
      "7  calgary         TacoKit   June 2024      11626.42\n",
      "8  calgary         Cookies   June 2024      10851.91\n",
      "9  calgary   Pasta&Noodles   June 2024      10204.87\n"
     ]
    }
   ],
   "source": [
    "def CalculateProductCitySalesDollars(city,month):\n",
    "    filter_df = df[(df['City']==city) &  (df['FiscalMonth']==month)]\n",
    "    product_df = filter_df.groupby(['City','Category','FiscalMonth'])['SalesDollars'].sum().nlargest(10).reset_index()\n",
    "\n",
    "    print(product_df)\n",
    "CalculateProductCitySalesDollars(city='calgary', month='June 2024')\n",
    "\n"
   ]
  },
  {
   "cell_type": "code",
   "execution_count": 13,
   "id": "65171592",
   "metadata": {},
   "outputs": [],
   "source": [
    "def TopCategoryCitySalesDollars(city,month):\n",
    "    #filter_df = df[(df['City']==city) &  (df['FiscalMonth']==month)]\n",
    "    filter_df = df[df['City'] == city]\n",
    "    if month != 'All':\n",
    "        filter_df = filter_df[filter_df['FiscalMonth'] == month]\n",
    "        product_df = filter_df.groupby(['City', 'Category', 'FiscalMonth'])['SalesDollars'] \\\n",
    "                              .sum().nlargest(10).reset_index()\n",
    "    else:\n",
    "        # For 'All', drop FiscalMonth from groupby to avoid duplicates\n",
    "        product_df = filter_df.groupby(['City', 'Category'])['SalesDollars'] \\\n",
    "                              .sum().nlargest(10).reset_index()\n",
    "\n",
    "    fig = px.pie(\n",
    "        data_frame=product_df,\n",
    "        names='Category',\n",
    "        values='SalesDollars',\n",
    "        title=f\"Top Selling Categories in {city} for {'All Months' if month == 'All' else month}\",\n",
    "        hole=0.6,\n",
    "        \n",
    "    )\n",
    "    fig.update_traces(textposition='outside', textinfo='label+percent')\n",
    "\n",
    "    fig.update_layout(\n",
    "        plot_bgcolor='#2c3e50',\n",
    "        paper_bgcolor='#2c3e50',\n",
    "        font_color='#ecf0f1',\n",
    "        showlegend= False\n",
    "        \n",
    "    )\n",
    "    return fig\n",
    "\n",
    "\n",
    "    "
   ]
  },
  {
   "cell_type": "code",
   "execution_count": 14,
   "id": "ff46914b",
   "metadata": {},
   "outputs": [],
   "source": [
    "import plotly.express as px\n",
    "\n",
    "def TopProductCitySalesDollars(city, month):\n",
    "    \n",
    "    filter_df = df[df['City'] == city]\n",
    "\n",
    "    \n",
    "    if month != 'All':\n",
    "        filter_df = filter_df[filter_df['FiscalMonth'] == month]\n",
    "\n",
    "    \n",
    "    product_df = filter_df.groupby(['City', 'ProductDescription'])['SalesDollars'] \\\n",
    "                          .sum().nlargest(5).reset_index()\n",
    "\n",
    "    \n",
    "    fig = px.bar(\n",
    "        data_frame=product_df,\n",
    "        x='ProductDescription',\n",
    "        y='SalesDollars',\n",
    "        title=f\"Top 5 Selling Products in {city} for {'All Months' if month == 'All' else month}\",\n",
    "        color='ProductDescription',\n",
    "        hover_data=['City', 'SalesDollars'],\n",
    "        custom_data=['City', 'SalesDollars']\n",
    "    )\n",
    "\n",
    "    fig.update_layout(\n",
    "        xaxis_title='Product Description',\n",
    "        yaxis_title='Sales Dollars',\n",
    "        uniformtext_minsize=8,\n",
    "        uniformtext_mode='hide',\n",
    "        plot_bgcolor='#2c3e50',\n",
    "        paper_bgcolor='#2c3e50',\n",
    "        font_color='#ecf0f1'\n",
    "    )\n",
    "\n",
    "    return fig\n"
   ]
  },
  {
   "cell_type": "code",
   "execution_count": 27,
   "id": "679ac1c7",
   "metadata": {},
   "outputs": [
    {
     "name": "stderr",
     "output_type": "stream",
     "text": [
      "c:\\Python310\\lib\\site-packages\\plotly\\express\\_core.py:2065: FutureWarning:\n",
      "\n",
      "When grouping with a length-1 list-like, you will need to pass a length-1 tuple to get_group in a future version of pandas. Pass `(name,)` instead of `name` to silence this warning.\n",
      "\n"
     ]
    },
    {
     "data": {
      "application/vnd.plotly.v1+json": {
       "config": {
        "plotlyServerURL": "https://plot.ly"
       },
       "data": [
        {
         "alignmentgroup": "True",
         "hovertemplate": "Retailer=%{y}<br>SalesDollars=%{x}<extra></extra>",
         "legendgroup": "MAXI",
         "marker": {
          "color": "#636efa",
          "pattern": {
           "shape": ""
          }
         },
         "name": "MAXI",
         "offsetgroup": "MAXI",
         "orientation": "h",
         "showlegend": true,
         "textposition": "auto",
         "type": "bar",
         "x": [
          146351.59
         ],
         "xaxis": "x",
         "y": [
          "MAXI"
         ],
         "yaxis": "y"
        },
        {
         "alignmentgroup": "True",
         "hovertemplate": "Retailer=%{y}<br>SalesDollars=%{x}<extra></extra>",
         "legendgroup": "METRO",
         "marker": {
          "color": "#EF553B",
          "pattern": {
           "shape": ""
          }
         },
         "name": "METRO",
         "offsetgroup": "METRO",
         "orientation": "h",
         "showlegend": true,
         "textposition": "auto",
         "type": "bar",
         "x": [
          84791.86
         ],
         "xaxis": "x",
         "y": [
          "METRO"
         ],
         "yaxis": "y"
        },
        {
         "alignmentgroup": "True",
         "hovertemplate": "Retailer=%{y}<br>SalesDollars=%{x}<extra></extra>",
         "legendgroup": "PROVIGO",
         "marker": {
          "color": "#00cc96",
          "pattern": {
           "shape": ""
          }
         },
         "name": "PROVIGO",
         "offsetgroup": "PROVIGO",
         "orientation": "h",
         "showlegend": true,
         "textposition": "auto",
         "type": "bar",
         "x": [
          64908.81
         ],
         "xaxis": "x",
         "y": [
          "PROVIGO"
         ],
         "yaxis": "y"
        },
        {
         "alignmentgroup": "True",
         "hovertemplate": "Retailer=%{y}<br>SalesDollars=%{x}<extra></extra>",
         "legendgroup": "IGA",
         "marker": {
          "color": "#ab63fa",
          "pattern": {
           "shape": ""
          }
         },
         "name": "IGA",
         "offsetgroup": "IGA",
         "orientation": "h",
         "showlegend": true,
         "textposition": "auto",
         "type": "bar",
         "x": [
          63045.22
         ],
         "xaxis": "x",
         "y": [
          "IGA"
         ],
         "yaxis": "y"
        },
        {
         "alignmentgroup": "True",
         "hovertemplate": "Retailer=%{y}<br>SalesDollars=%{x}<extra></extra>",
         "legendgroup": "SUPER C",
         "marker": {
          "color": "#FFA15A",
          "pattern": {
           "shape": ""
          }
         },
         "name": "SUPER C",
         "offsetgroup": "SUPER C",
         "orientation": "h",
         "showlegend": true,
         "textposition": "auto",
         "type": "bar",
         "x": [
          41088.47
         ],
         "xaxis": "x",
         "y": [
          "SUPER C"
         ],
         "yaxis": "y"
        }
       ],
       "layout": {
        "barmode": "relative",
        "font": {
         "color": "#ecf0f1"
        },
        "legend": {
         "title": {
          "text": "Retailer"
         },
         "tracegroupgap": 0
        },
        "paper_bgcolor": "#2c3e50",
        "plot_bgcolor": "#2c3e50",
        "template": {
         "data": {
          "bar": [
           {
            "error_x": {
             "color": "#2a3f5f"
            },
            "error_y": {
             "color": "#2a3f5f"
            },
            "marker": {
             "line": {
              "color": "#E5ECF6",
              "width": 0.5
             },
             "pattern": {
              "fillmode": "overlay",
              "size": 10,
              "solidity": 0.2
             }
            },
            "type": "bar"
           }
          ],
          "barpolar": [
           {
            "marker": {
             "line": {
              "color": "#E5ECF6",
              "width": 0.5
             },
             "pattern": {
              "fillmode": "overlay",
              "size": 10,
              "solidity": 0.2
             }
            },
            "type": "barpolar"
           }
          ],
          "carpet": [
           {
            "aaxis": {
             "endlinecolor": "#2a3f5f",
             "gridcolor": "white",
             "linecolor": "white",
             "minorgridcolor": "white",
             "startlinecolor": "#2a3f5f"
            },
            "baxis": {
             "endlinecolor": "#2a3f5f",
             "gridcolor": "white",
             "linecolor": "white",
             "minorgridcolor": "white",
             "startlinecolor": "#2a3f5f"
            },
            "type": "carpet"
           }
          ],
          "choropleth": [
           {
            "colorbar": {
             "outlinewidth": 0,
             "ticks": ""
            },
            "type": "choropleth"
           }
          ],
          "contour": [
           {
            "colorbar": {
             "outlinewidth": 0,
             "ticks": ""
            },
            "colorscale": [
             [
              0,
              "#0d0887"
             ],
             [
              0.1111111111111111,
              "#46039f"
             ],
             [
              0.2222222222222222,
              "#7201a8"
             ],
             [
              0.3333333333333333,
              "#9c179e"
             ],
             [
              0.4444444444444444,
              "#bd3786"
             ],
             [
              0.5555555555555556,
              "#d8576b"
             ],
             [
              0.6666666666666666,
              "#ed7953"
             ],
             [
              0.7777777777777778,
              "#fb9f3a"
             ],
             [
              0.8888888888888888,
              "#fdca26"
             ],
             [
              1,
              "#f0f921"
             ]
            ],
            "type": "contour"
           }
          ],
          "contourcarpet": [
           {
            "colorbar": {
             "outlinewidth": 0,
             "ticks": ""
            },
            "type": "contourcarpet"
           }
          ],
          "heatmap": [
           {
            "colorbar": {
             "outlinewidth": 0,
             "ticks": ""
            },
            "colorscale": [
             [
              0,
              "#0d0887"
             ],
             [
              0.1111111111111111,
              "#46039f"
             ],
             [
              0.2222222222222222,
              "#7201a8"
             ],
             [
              0.3333333333333333,
              "#9c179e"
             ],
             [
              0.4444444444444444,
              "#bd3786"
             ],
             [
              0.5555555555555556,
              "#d8576b"
             ],
             [
              0.6666666666666666,
              "#ed7953"
             ],
             [
              0.7777777777777778,
              "#fb9f3a"
             ],
             [
              0.8888888888888888,
              "#fdca26"
             ],
             [
              1,
              "#f0f921"
             ]
            ],
            "type": "heatmap"
           }
          ],
          "heatmapgl": [
           {
            "colorbar": {
             "outlinewidth": 0,
             "ticks": ""
            },
            "colorscale": [
             [
              0,
              "#0d0887"
             ],
             [
              0.1111111111111111,
              "#46039f"
             ],
             [
              0.2222222222222222,
              "#7201a8"
             ],
             [
              0.3333333333333333,
              "#9c179e"
             ],
             [
              0.4444444444444444,
              "#bd3786"
             ],
             [
              0.5555555555555556,
              "#d8576b"
             ],
             [
              0.6666666666666666,
              "#ed7953"
             ],
             [
              0.7777777777777778,
              "#fb9f3a"
             ],
             [
              0.8888888888888888,
              "#fdca26"
             ],
             [
              1,
              "#f0f921"
             ]
            ],
            "type": "heatmapgl"
           }
          ],
          "histogram": [
           {
            "marker": {
             "pattern": {
              "fillmode": "overlay",
              "size": 10,
              "solidity": 0.2
             }
            },
            "type": "histogram"
           }
          ],
          "histogram2d": [
           {
            "colorbar": {
             "outlinewidth": 0,
             "ticks": ""
            },
            "colorscale": [
             [
              0,
              "#0d0887"
             ],
             [
              0.1111111111111111,
              "#46039f"
             ],
             [
              0.2222222222222222,
              "#7201a8"
             ],
             [
              0.3333333333333333,
              "#9c179e"
             ],
             [
              0.4444444444444444,
              "#bd3786"
             ],
             [
              0.5555555555555556,
              "#d8576b"
             ],
             [
              0.6666666666666666,
              "#ed7953"
             ],
             [
              0.7777777777777778,
              "#fb9f3a"
             ],
             [
              0.8888888888888888,
              "#fdca26"
             ],
             [
              1,
              "#f0f921"
             ]
            ],
            "type": "histogram2d"
           }
          ],
          "histogram2dcontour": [
           {
            "colorbar": {
             "outlinewidth": 0,
             "ticks": ""
            },
            "colorscale": [
             [
              0,
              "#0d0887"
             ],
             [
              0.1111111111111111,
              "#46039f"
             ],
             [
              0.2222222222222222,
              "#7201a8"
             ],
             [
              0.3333333333333333,
              "#9c179e"
             ],
             [
              0.4444444444444444,
              "#bd3786"
             ],
             [
              0.5555555555555556,
              "#d8576b"
             ],
             [
              0.6666666666666666,
              "#ed7953"
             ],
             [
              0.7777777777777778,
              "#fb9f3a"
             ],
             [
              0.8888888888888888,
              "#fdca26"
             ],
             [
              1,
              "#f0f921"
             ]
            ],
            "type": "histogram2dcontour"
           }
          ],
          "mesh3d": [
           {
            "colorbar": {
             "outlinewidth": 0,
             "ticks": ""
            },
            "type": "mesh3d"
           }
          ],
          "parcoords": [
           {
            "line": {
             "colorbar": {
              "outlinewidth": 0,
              "ticks": ""
             }
            },
            "type": "parcoords"
           }
          ],
          "pie": [
           {
            "automargin": true,
            "type": "pie"
           }
          ],
          "scatter": [
           {
            "fillpattern": {
             "fillmode": "overlay",
             "size": 10,
             "solidity": 0.2
            },
            "type": "scatter"
           }
          ],
          "scatter3d": [
           {
            "line": {
             "colorbar": {
              "outlinewidth": 0,
              "ticks": ""
             }
            },
            "marker": {
             "colorbar": {
              "outlinewidth": 0,
              "ticks": ""
             }
            },
            "type": "scatter3d"
           }
          ],
          "scattercarpet": [
           {
            "marker": {
             "colorbar": {
              "outlinewidth": 0,
              "ticks": ""
             }
            },
            "type": "scattercarpet"
           }
          ],
          "scattergeo": [
           {
            "marker": {
             "colorbar": {
              "outlinewidth": 0,
              "ticks": ""
             }
            },
            "type": "scattergeo"
           }
          ],
          "scattergl": [
           {
            "marker": {
             "colorbar": {
              "outlinewidth": 0,
              "ticks": ""
             }
            },
            "type": "scattergl"
           }
          ],
          "scattermapbox": [
           {
            "marker": {
             "colorbar": {
              "outlinewidth": 0,
              "ticks": ""
             }
            },
            "type": "scattermapbox"
           }
          ],
          "scatterpolar": [
           {
            "marker": {
             "colorbar": {
              "outlinewidth": 0,
              "ticks": ""
             }
            },
            "type": "scatterpolar"
           }
          ],
          "scatterpolargl": [
           {
            "marker": {
             "colorbar": {
              "outlinewidth": 0,
              "ticks": ""
             }
            },
            "type": "scatterpolargl"
           }
          ],
          "scatterternary": [
           {
            "marker": {
             "colorbar": {
              "outlinewidth": 0,
              "ticks": ""
             }
            },
            "type": "scatterternary"
           }
          ],
          "surface": [
           {
            "colorbar": {
             "outlinewidth": 0,
             "ticks": ""
            },
            "colorscale": [
             [
              0,
              "#0d0887"
             ],
             [
              0.1111111111111111,
              "#46039f"
             ],
             [
              0.2222222222222222,
              "#7201a8"
             ],
             [
              0.3333333333333333,
              "#9c179e"
             ],
             [
              0.4444444444444444,
              "#bd3786"
             ],
             [
              0.5555555555555556,
              "#d8576b"
             ],
             [
              0.6666666666666666,
              "#ed7953"
             ],
             [
              0.7777777777777778,
              "#fb9f3a"
             ],
             [
              0.8888888888888888,
              "#fdca26"
             ],
             [
              1,
              "#f0f921"
             ]
            ],
            "type": "surface"
           }
          ],
          "table": [
           {
            "cells": {
             "fill": {
              "color": "#EBF0F8"
             },
             "line": {
              "color": "white"
             }
            },
            "header": {
             "fill": {
              "color": "#C8D4E3"
             },
             "line": {
              "color": "white"
             }
            },
            "type": "table"
           }
          ]
         },
         "layout": {
          "annotationdefaults": {
           "arrowcolor": "#2a3f5f",
           "arrowhead": 0,
           "arrowwidth": 1
          },
          "autotypenumbers": "strict",
          "coloraxis": {
           "colorbar": {
            "outlinewidth": 0,
            "ticks": ""
           }
          },
          "colorscale": {
           "diverging": [
            [
             0,
             "#8e0152"
            ],
            [
             0.1,
             "#c51b7d"
            ],
            [
             0.2,
             "#de77ae"
            ],
            [
             0.3,
             "#f1b6da"
            ],
            [
             0.4,
             "#fde0ef"
            ],
            [
             0.5,
             "#f7f7f7"
            ],
            [
             0.6,
             "#e6f5d0"
            ],
            [
             0.7,
             "#b8e186"
            ],
            [
             0.8,
             "#7fbc41"
            ],
            [
             0.9,
             "#4d9221"
            ],
            [
             1,
             "#276419"
            ]
           ],
           "sequential": [
            [
             0,
             "#0d0887"
            ],
            [
             0.1111111111111111,
             "#46039f"
            ],
            [
             0.2222222222222222,
             "#7201a8"
            ],
            [
             0.3333333333333333,
             "#9c179e"
            ],
            [
             0.4444444444444444,
             "#bd3786"
            ],
            [
             0.5555555555555556,
             "#d8576b"
            ],
            [
             0.6666666666666666,
             "#ed7953"
            ],
            [
             0.7777777777777778,
             "#fb9f3a"
            ],
            [
             0.8888888888888888,
             "#fdca26"
            ],
            [
             1,
             "#f0f921"
            ]
           ],
           "sequentialminus": [
            [
             0,
             "#0d0887"
            ],
            [
             0.1111111111111111,
             "#46039f"
            ],
            [
             0.2222222222222222,
             "#7201a8"
            ],
            [
             0.3333333333333333,
             "#9c179e"
            ],
            [
             0.4444444444444444,
             "#bd3786"
            ],
            [
             0.5555555555555556,
             "#d8576b"
            ],
            [
             0.6666666666666666,
             "#ed7953"
            ],
            [
             0.7777777777777778,
             "#fb9f3a"
            ],
            [
             0.8888888888888888,
             "#fdca26"
            ],
            [
             1,
             "#f0f921"
            ]
           ]
          },
          "colorway": [
           "#636efa",
           "#EF553B",
           "#00cc96",
           "#ab63fa",
           "#FFA15A",
           "#19d3f3",
           "#FF6692",
           "#B6E880",
           "#FF97FF",
           "#FECB52"
          ],
          "font": {
           "color": "#2a3f5f"
          },
          "geo": {
           "bgcolor": "white",
           "lakecolor": "white",
           "landcolor": "#E5ECF6",
           "showlakes": true,
           "showland": true,
           "subunitcolor": "white"
          },
          "hoverlabel": {
           "align": "left"
          },
          "hovermode": "closest",
          "mapbox": {
           "style": "light"
          },
          "paper_bgcolor": "white",
          "plot_bgcolor": "#E5ECF6",
          "polar": {
           "angularaxis": {
            "gridcolor": "white",
            "linecolor": "white",
            "ticks": ""
           },
           "bgcolor": "#E5ECF6",
           "radialaxis": {
            "gridcolor": "white",
            "linecolor": "white",
            "ticks": ""
           }
          },
          "scene": {
           "xaxis": {
            "backgroundcolor": "#E5ECF6",
            "gridcolor": "white",
            "gridwidth": 2,
            "linecolor": "white",
            "showbackground": true,
            "ticks": "",
            "zerolinecolor": "white"
           },
           "yaxis": {
            "backgroundcolor": "#E5ECF6",
            "gridcolor": "white",
            "gridwidth": 2,
            "linecolor": "white",
            "showbackground": true,
            "ticks": "",
            "zerolinecolor": "white"
           },
           "zaxis": {
            "backgroundcolor": "#E5ECF6",
            "gridcolor": "white",
            "gridwidth": 2,
            "linecolor": "white",
            "showbackground": true,
            "ticks": "",
            "zerolinecolor": "white"
           }
          },
          "shapedefaults": {
           "line": {
            "color": "#2a3f5f"
           }
          },
          "ternary": {
           "aaxis": {
            "gridcolor": "white",
            "linecolor": "white",
            "ticks": ""
           },
           "baxis": {
            "gridcolor": "white",
            "linecolor": "white",
            "ticks": ""
           },
           "bgcolor": "#E5ECF6",
           "caxis": {
            "gridcolor": "white",
            "linecolor": "white",
            "ticks": ""
           }
          },
          "title": {
           "x": 0.05
          },
          "xaxis": {
           "automargin": true,
           "gridcolor": "white",
           "linecolor": "white",
           "ticks": "",
           "title": {
            "standoff": 15
           },
           "zerolinecolor": "white",
           "zerolinewidth": 2
          },
          "yaxis": {
           "automargin": true,
           "gridcolor": "white",
           "linecolor": "white",
           "ticks": "",
           "title": {
            "standoff": 15
           },
           "zerolinecolor": "white",
           "zerolinewidth": 2
          }
         }
        },
        "title": {
         "text": "Top 5 Retailers in montreal for All Months"
        },
        "uniformtext": {
         "minsize": 8,
         "mode": "hide"
        },
        "xaxis": {
         "anchor": "y",
         "domain": [
          0,
          1
         ],
         "title": {
          "text": "Total Sales Dollars"
         }
        },
        "yaxis": {
         "anchor": "x",
         "categoryarray": [
          "SUPER C",
          "IGA",
          "PROVIGO",
          "METRO",
          "MAXI"
         ],
         "categoryorder": "array",
         "domain": [
          0,
          1
         ],
         "title": {
          "text": "Retailer"
         }
        }
       }
      }
     },
     "metadata": {},
     "output_type": "display_data"
    }
   ],
   "source": [
    "def TopRetailersbySales(city, month):\n",
    "\n",
    "    filter_df = df[df['City'] == city]\n",
    "\n",
    "    \n",
    "    if month != 'All':\n",
    "        filter_df = filter_df[filter_df['FiscalMonth'] == month]\n",
    "\n",
    "    \n",
    "    product_df = filter_df.groupby(['Retailer'])['SalesDollars'] \\\n",
    "                          .sum().nlargest(5).reset_index()\n",
    "    \n",
    "    fig = px.bar(\n",
    "        data_frame=product_df,\n",
    "        x='SalesDollars',\n",
    "        y='Retailer',\n",
    "        color='Retailer',\n",
    "        orientation='h',\n",
    "        title=f\"Top 5 Retailers in {city} for {'All Months' if month == 'All' else month}\"\n",
    "    )\n",
    "    fig.update_layout(\n",
    "        xaxis_title='Total Sales Dollars',\n",
    "        yaxis_title='Retailer',\n",
    "        uniformtext_minsize=8,\n",
    "        uniformtext_mode='hide',\n",
    "        plot_bgcolor='#2c3e50',\n",
    "        paper_bgcolor='#2c3e50',\n",
    "        font_color='#ecf0f1'\n",
    "    )\n",
    "\n",
    "    return fig\n",
    "TopRetailersbySales(city='montreal',month='All')\n",
    "\n",
    "    "
   ]
  },
  {
   "cell_type": "code",
   "execution_count": 51,
   "id": "626fdd1f",
   "metadata": {},
   "outputs": [
    {
     "data": {
      "text/html": [
       "\n",
       "        <iframe\n",
       "            width=\"100%\"\n",
       "            height=\"650\"\n",
       "            src=\"http://127.0.0.1:5000/\"\n",
       "            frameborder=\"0\"\n",
       "            allowfullscreen\n",
       "            \n",
       "        ></iframe>\n",
       "        "
      ],
      "text/plain": [
       "<IPython.lib.display.IFrame at 0x20d2a9cada0>"
      ]
     },
     "metadata": {},
     "output_type": "display_data"
    },
    {
     "name": "stderr",
     "output_type": "stream",
     "text": [
      "c:\\Python310\\lib\\site-packages\\plotly\\express\\_core.py:2065: FutureWarning:\n",
      "\n",
      "When grouping with a length-1 list-like, you will need to pass a length-1 tuple to get_group in a future version of pandas. Pass `(name,)` instead of `name` to silence this warning.\n",
      "\n",
      "c:\\Python310\\lib\\site-packages\\plotly\\express\\_core.py:2065: FutureWarning:\n",
      "\n",
      "When grouping with a length-1 list-like, you will need to pass a length-1 tuple to get_group in a future version of pandas. Pass `(name,)` instead of `name` to silence this warning.\n",
      "\n",
      "c:\\Python310\\lib\\site-packages\\plotly\\express\\_core.py:2065: FutureWarning:\n",
      "\n",
      "When grouping with a length-1 list-like, you will need to pass a length-1 tuple to get_group in a future version of pandas. Pass `(name,)` instead of `name` to silence this warning.\n",
      "\n",
      "c:\\Python310\\lib\\site-packages\\plotly\\express\\_core.py:2065: FutureWarning:\n",
      "\n",
      "When grouping with a length-1 list-like, you will need to pass a length-1 tuple to get_group in a future version of pandas. Pass `(name,)` instead of `name` to silence this warning.\n",
      "\n",
      "c:\\Python310\\lib\\site-packages\\plotly\\express\\_core.py:2065: FutureWarning:\n",
      "\n",
      "When grouping with a length-1 list-like, you will need to pass a length-1 tuple to get_group in a future version of pandas. Pass `(name,)` instead of `name` to silence this warning.\n",
      "\n",
      "c:\\Python310\\lib\\site-packages\\plotly\\express\\_core.py:2065: FutureWarning:\n",
      "\n",
      "When grouping with a length-1 list-like, you will need to pass a length-1 tuple to get_group in a future version of pandas. Pass `(name,)` instead of `name` to silence this warning.\n",
      "\n",
      "c:\\Python310\\lib\\site-packages\\plotly\\express\\_core.py:2065: FutureWarning:\n",
      "\n",
      "When grouping with a length-1 list-like, you will need to pass a length-1 tuple to get_group in a future version of pandas. Pass `(name,)` instead of `name` to silence this warning.\n",
      "\n",
      "c:\\Python310\\lib\\site-packages\\plotly\\express\\_core.py:2065: FutureWarning:\n",
      "\n",
      "When grouping with a length-1 list-like, you will need to pass a length-1 tuple to get_group in a future version of pandas. Pass `(name,)` instead of `name` to silence this warning.\n",
      "\n",
      "c:\\Python310\\lib\\site-packages\\plotly\\express\\_core.py:2065: FutureWarning:\n",
      "\n",
      "When grouping with a length-1 list-like, you will need to pass a length-1 tuple to get_group in a future version of pandas. Pass `(name,)` instead of `name` to silence this warning.\n",
      "\n",
      "c:\\Python310\\lib\\site-packages\\plotly\\express\\_core.py:2065: FutureWarning:\n",
      "\n",
      "When grouping with a length-1 list-like, you will need to pass a length-1 tuple to get_group in a future version of pandas. Pass `(name,)` instead of `name` to silence this warning.\n",
      "\n",
      "c:\\Python310\\lib\\site-packages\\plotly\\express\\_core.py:2065: FutureWarning:\n",
      "\n",
      "When grouping with a length-1 list-like, you will need to pass a length-1 tuple to get_group in a future version of pandas. Pass `(name,)` instead of `name` to silence this warning.\n",
      "\n",
      "c:\\Python310\\lib\\site-packages\\plotly\\express\\_core.py:2065: FutureWarning:\n",
      "\n",
      "When grouping with a length-1 list-like, you will need to pass a length-1 tuple to get_group in a future version of pandas. Pass `(name,)` instead of `name` to silence this warning.\n",
      "\n",
      "c:\\Python310\\lib\\site-packages\\plotly\\express\\_core.py:2065: FutureWarning:\n",
      "\n",
      "When grouping with a length-1 list-like, you will need to pass a length-1 tuple to get_group in a future version of pandas. Pass `(name,)` instead of `name` to silence this warning.\n",
      "\n",
      "c:\\Python310\\lib\\site-packages\\plotly\\express\\_core.py:2065: FutureWarning:\n",
      "\n",
      "When grouping with a length-1 list-like, you will need to pass a length-1 tuple to get_group in a future version of pandas. Pass `(name,)` instead of `name` to silence this warning.\n",
      "\n",
      "c:\\Python310\\lib\\site-packages\\plotly\\express\\_core.py:2065: FutureWarning:\n",
      "\n",
      "When grouping with a length-1 list-like, you will need to pass a length-1 tuple to get_group in a future version of pandas. Pass `(name,)` instead of `name` to silence this warning.\n",
      "\n",
      "c:\\Python310\\lib\\site-packages\\plotly\\express\\_core.py:2065: FutureWarning:\n",
      "\n",
      "When grouping with a length-1 list-like, you will need to pass a length-1 tuple to get_group in a future version of pandas. Pass `(name,)` instead of `name` to silence this warning.\n",
      "\n",
      "c:\\Python310\\lib\\site-packages\\plotly\\express\\_core.py:2065: FutureWarning:\n",
      "\n",
      "When grouping with a length-1 list-like, you will need to pass a length-1 tuple to get_group in a future version of pandas. Pass `(name,)` instead of `name` to silence this warning.\n",
      "\n",
      "c:\\Python310\\lib\\site-packages\\plotly\\express\\_core.py:2065: FutureWarning:\n",
      "\n",
      "When grouping with a length-1 list-like, you will need to pass a length-1 tuple to get_group in a future version of pandas. Pass `(name,)` instead of `name` to silence this warning.\n",
      "\n",
      "c:\\Python310\\lib\\site-packages\\plotly\\express\\_core.py:2065: FutureWarning:\n",
      "\n",
      "When grouping with a length-1 list-like, you will need to pass a length-1 tuple to get_group in a future version of pandas. Pass `(name,)` instead of `name` to silence this warning.\n",
      "\n",
      "c:\\Python310\\lib\\site-packages\\plotly\\express\\_core.py:2065: FutureWarning:\n",
      "\n",
      "When grouping with a length-1 list-like, you will need to pass a length-1 tuple to get_group in a future version of pandas. Pass `(name,)` instead of `name` to silence this warning.\n",
      "\n",
      "c:\\Python310\\lib\\site-packages\\plotly\\express\\_core.py:2065: FutureWarning:\n",
      "\n",
      "When grouping with a length-1 list-like, you will need to pass a length-1 tuple to get_group in a future version of pandas. Pass `(name,)` instead of `name` to silence this warning.\n",
      "\n"
     ]
    }
   ],
   "source": [
    "app = dash.Dash(__name__, external_stylesheets=[dbc.themes.DARKLY])  # DARKLY theme\n",
    "\n",
    "app.layout = dbc.Container(\n",
    "    fluid=True,\n",
    "    style={'backgroundColor': '#2c3e50', 'padding': '20px'},  # Dark background color\n",
    "    children=[\n",
    "        html.H1(\"📊 Sales Analytics Dashboard\", style={\n",
    "            'textAlign': 'center',\n",
    "            'color': '#ecf0f1',  # Light text color\n",
    "            'marginBottom': '10px'\n",
    "        }),\n",
    "\n",
    "        # Row for the dropdowns and inputs\n",
    "        dbc.Row([\n",
    "            dbc.Col(html.Div([\n",
    "                html.Label(\"Select City\", style={'fontWeight': 'bold', 'color': '#ecf0f1'}),\n",
    "                dcc.Dropdown(id='select-city', \n",
    "                             options = [{'label':city, 'value': city} for city in df['City'].unique()],\n",
    "                             placeholder=\"Choose a city\",\n",
    "                             value='toronto',\n",
    "                             style={'marginBottom': '10px', \n",
    "                                    'color': 'black'})\n",
    "            ]), width=2),\n",
    "            dbc.Col(html.Div([\n",
    "                html.Label(\"Select Product\", style={'fontWeight': 'bold', 'color': '#ecf0f1'}),\n",
    "                dcc.Dropdown(\n",
    "                    id='select-product',\n",
    "                    options=[{'label': product, 'value': product} for product in df['ProductDescription'].unique()], \n",
    "                    placeholder=\"Choose a product\", \n",
    "                    style={'marginBottom': '10px',\n",
    "                           'color': 'black'})\n",
    "            ]), width=3),\n",
    "            dbc.Col(html.Div([\n",
    "                html.Label(\"Select Category\", style={'fontWeight': 'bold', 'color': '#ecf0f1'}),\n",
    "                dcc.Dropdown(\n",
    "                    id='select-category',\n",
    "                    options=[{'label': cat, 'value': cat} for cat in df['Category'].unique()], \n",
    "                    placeholder=\"Choose a Category\",\n",
    "                    value='Yogurt', \n",
    "                    style={'marginBottom': '10px',\n",
    "                           'color': 'black'})\n",
    "            ]), width=3),\n",
    "            dbc.Col(html.Div([\n",
    "                html.Label(\"Select Month\", style={'fontWeight': 'bold', 'color': '#ecf0f1'}),\n",
    "                dcc.RadioItems(\n",
    "                    id='select-month',\n",
    "                    options=[\n",
    "                        {'label': 'All', 'value': 'All'},\n",
    "                        {'label': 'May 2024', 'value': 'May 2024'},\n",
    "                        {'label': 'June 2024', 'value': 'June 2024'},\n",
    "                        {'label': 'July 2024', 'value': 'July 2024'}\n",
    "                    ],\n",
    "                    value='All',  # Default selected value\n",
    "                    labelStyle={'display': 'block', 'margin': '5px 0', 'color': '#ecf0f1'},\n",
    "                    style={'marginBottom': '10px'}\n",
    "                )\n",
    "            ]), width=2),\n",
    "            dbc.Col(html.Div([\n",
    "                html.Label(\"Total Sales in 2024\", style={'fontWeight': 'bold', 'color': '#ecf0f1'}),\n",
    "                html.Div(id='total-sales-2024', style={\n",
    "                    'padding': '5px',\n",
    "                    'backgroundColor': '#1abc9c',\n",
    "                    'borderRadius': '5px',\n",
    "                    'color': '#2c3e50',\n",
    "                    'fontWeight': 'bold',\n",
    "                    'fontSize': '16px',\n",
    "                    'marginTop': '5px'\n",
    "                }),\n",
    "                html.Label('Total Category Sales', style={\n",
    "                    'fontWeight': 'bold',\n",
    "                    'color': '#ecf0f1',\n",
    "                    'marginTop': '10px'\n",
    "                }),\n",
    "                html.Div(id='total-category-sales', style={\n",
    "                    'padding': '5px',\n",
    "                    'backgroundColor': '#f39c12',\n",
    "                    'borderRadius': '5px',\n",
    "                    'color': '#2c3e50',\n",
    "                    'fontWeight': 'bold',\n",
    "                    'fontSize': '16px',\n",
    "                    'marginTop': '5px'\n",
    "                })\n",
    "            ]), width=2)\n",
    "\n",
    "        ]),\n",
    "\n",
    "        html.Hr(style={'borderColor': '#ecf0f1'}),\n",
    "\n",
    "        # Row for graphs\n",
    "        dbc.Row([\n",
    "            dbc.Col(dcc.Graph(id='top-products-in-city-graph', config={'displayModeBar': False}), width=4),\n",
    "            dbc.Col(dcc.Graph(id='top-category-city-sales-dollars', config={'displayModeBar': False,}), width=4),\n",
    "            dbc.Col(dcc.Graph(id='top-retailer-graph',config={'displayModeBar': False}),width=4)\n",
    "        ]),\n",
    "\n",
    "        # Row for summary information\n",
    "        dbc.Row([\n",
    "            dbc.Col(html.Div(id='summary-text', style={\n",
    "                'padding': '20px',\n",
    "                'backgroundColor': '#34495e',  # Darker background for summary\n",
    "                'borderRadius': '10px',\n",
    "                'boxShadow': '0 0 8px rgba(0, 0, 0, 0.1)',\n",
    "                #'color': '#ecf0f1'  # Light text for contrast\n",
    "            }), width=12)\n",
    "        ])\n",
    "    ]\n",
    ")\n",
    "@app.callback(\n",
    "    Output('top-products-in-city-graph','figure'),\n",
    "    [Input('select-city','value'),\n",
    "     Input('select-month','value')]\n",
    ")\n",
    "def ProductCitySalesGraph(select_city,select_month):\n",
    "    fig = TopProductCitySalesDollars(select_city,select_month)\n",
    "    return fig\n",
    "@app.callback(\n",
    "    Output('top-category-city-sales-dollars','figure'),\n",
    "    [Input('select-city','value'),\n",
    "    Input('select-month','value') ]\n",
    ")\n",
    "def CategoryCitySalesGraph(select_city, select_month):\n",
    "    fig = TopCategoryCitySalesDollars(select_city,select_month)\n",
    "    return fig\n",
    "\n",
    "@app.callback(\n",
    "    Output('top-retailer-graph','figure'),\n",
    "    [Input('select-city','value'),\n",
    "    Input('select-month','value') ]\n",
    ")\n",
    "def RetailerCitySalesGraph(select_city,select_month):\n",
    "    fig = TopRetailersbySales(select_city,select_month)\n",
    "    return fig\n",
    "\n",
    "@app.callback(\n",
    "    Output('total-sales-2024', 'children'),\n",
    "    [Input('select-city', 'value')]\n",
    ")\n",
    "def display_total_sales_2024(city):\n",
    "    # Filter for selected city and year 2024\n",
    "    city_df = df[(df['City'] == city)]\n",
    "    total_sales = city_df['SalesDollars'].sum()\n",
    "    formatted_sales = \"${:,.2f}\".format(total_sales)\n",
    "    return formatted_sales\n",
    "@app.callback(\n",
    "    Output('total-category-sales', 'children'),\n",
    "    [Input('select-city', 'value'),\n",
    "     Input('select-category','value')]\n",
    ")\n",
    "def display_total_category_sales(city,category):\n",
    "    total_sales = TotalCategoryCitySales(city,category)\n",
    "    formatted_sales = \"${:,.2f}\".format(total_sales)\n",
    "    return formatted_sales\n",
    "\n",
    "if __name__ == '__main__':\n",
    "    app.run(port=5000, debug=True)\n"
   ]
  },
  {
   "cell_type": "code",
   "execution_count": 16,
   "id": "7dcce4cd",
   "metadata": {},
   "outputs": [
    {
     "data": {
      "text/plain": [
       "Index(['Manufacturer', 'PeriodID', 'WeekEndDate', 'FiscalYear',\n",
       "       'FiscalQuarter', 'FiscalMonth', 'FiscalWeek', 'ProductID',\n",
       "       'ProductDescription', 'UPC', 'AccountID', 'Banner', 'StoreName_x',\n",
       "       'StoreNumber', 'Address_x', 'City', 'Province', 'PostalCode',\n",
       "       'SalesQty', 'SalesDollars', 'RowID', 'PostalID', 'Postal_Lat',\n",
       "       'Postal_Long', 'ClusterID', 'MasterID', 'StoreName_y', 'Retailer',\n",
       "       'Latitude', 'Longitude', 'Address_y', 'SalesDollarsMean', 'FSA',\n",
       "       'Category', 'UnitPrice'],\n",
       "      dtype='object')"
      ]
     },
     "execution_count": 16,
     "metadata": {},
     "output_type": "execute_result"
    }
   ],
   "source": [
    "df.columns"
   ]
  },
  {
   "cell_type": "code",
   "execution_count": 17,
   "id": "32f24314",
   "metadata": {},
   "outputs": [
    {
     "data": {
      "text/plain": [
       "array(['WALMART', 'NO FRILLS', 'LOBLAW', 'FOOD BASICS', 'SUPER C', 'RCSS',\n",
       "       'FORTINOS', 'MAXI', 'YIG', 'ZEHRS', 'RASS', 'METRO', 'PROVIGO',\n",
       "       'SAFEWAY', 'FED COOP', 'VALU-MART', 'FRESHCO', \"SOBEY'S\",\n",
       "       'FOODLAND', 'IGA', 'OVERWAITEA', 'THRIFTY FOODS', 'RACHELLE BERY'],\n",
       "      dtype=object)"
      ]
     },
     "execution_count": 17,
     "metadata": {},
     "output_type": "execute_result"
    }
   ],
   "source": [
    "df['Retailer'].unique()"
   ]
  },
  {
   "cell_type": "code",
   "execution_count": null,
   "id": "019f3022",
   "metadata": {},
   "outputs": [],
   "source": []
  }
 ],
 "metadata": {
  "kernelspec": {
   "display_name": "Python 3",
   "language": "python",
   "name": "python3"
  },
  "language_info": {
   "codemirror_mode": {
    "name": "ipython",
    "version": 3
   },
   "file_extension": ".py",
   "mimetype": "text/x-python",
   "name": "python",
   "nbconvert_exporter": "python",
   "pygments_lexer": "ipython3",
   "version": "3.10.4"
  }
 },
 "nbformat": 4,
 "nbformat_minor": 5
}
